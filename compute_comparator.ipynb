{
 "cells": [
  {
   "cell_type": "code",
   "execution_count": 1,
   "metadata": {},
   "outputs": [],
   "source": [
    "import pandas as pd\n",
    "import numpy as np\n",
    "import requests\n",
    "import bs4"
   ]
  },
  {
   "cell_type": "code",
   "execution_count": 2,
   "metadata": {},
   "outputs": [],
   "source": [
    "headers = {\n",
    "    \"User-Agent\":\"Mozilla/5.0 (Windows NT 10.0; Win64;     x64; rv:66.0) Gecko/20100101 Firefox/66.0\", \n",
    "    \"Accept-Encoding\":\"gzip, deflate\",     \n",
    "    \"Accept\":\"text/html,application/xhtml+xml,application/xml;q=0.9,*/*;q=0.8\", \n",
    "    \"DNT\":\"1\",\n",
    "    \"Connection\":\"close\", \n",
    "    \"Upgrade-Insecure-Requests\":\"1\"\n",
    "}"
   ]
  },
  {
   "cell_type": "code",
   "execution_count": 15,
   "metadata": {},
   "outputs": [],
   "source": [
    "attributes_to_ask = [\n",
    "    'Price','Display Size', \n",
    "    'Hard Disk Size', 'Processor Count', 'Processor (CPU) Speed', 'Item Weight'\n",
    "]"
   ]
  },
  {
   "cell_type": "code",
   "execution_count": 35,
   "metadata": {},
   "outputs": [],
   "source": [
    "links = \\\n",
    "[\n",
    "    'https://www.amazon.com/Acer-Display-Graphics-Keyboard-A515-43-R19L/dp/B07RF1XD36/ref=sr_1_3?keywords=laptop&qid=1574479481&sr=8-3',\n",
    "    'https://www.amazon.com/Lenovo-Chromebook-MediaTek-Processor-81JW0000US/dp/B07GLV1VC7/ref=sr_1_1_sspa?keywords=laptop&qid=1574571446&smid=ATVPDKIKX0DER&sr=8-1-spons&psc=1&spLa=ZW5jcnlwdGVkUXVhbGlmaWVyPUFENDA3QVVKUk05R0MmZW5jcnlwdGVkSWQ9QTAwODY2NjAzUlk0WDNJRDdZQzYwJmVuY3J5cHRlZEFkSWQ9QTA2MzgzNTAxNFZaUjU0MVJKS1NTJndpZGdldE5hbWU9c3BfYXRmJmFjdGlvbj1jbGlja1JlZGlyZWN0JmRvTm90TG9nQ2xpY2s9dHJ1ZQ==',\n",
    "    'https://www.amazon.com/Dell-Inspiron-5000-Theoretical-i5379-5893GRY-PUS/dp/B0764LNTCZ/ref=sr_1_1?keywords=dell&qid=1574572016&sr=8-1',\n",
    "    'https://www.amazon.com/Ultra-Slim-Wideview-I5-8265U-Fingerprint-UX331FA-AS51/dp/B07QXKW89P/ref=sr_1_3?keywords=asus&qid=1574572176&sr=8-3',\n",
    "]"
   ]
  },
  {
   "cell_type": "code",
   "execution_count": 36,
   "metadata": {},
   "outputs": [],
   "source": [
    "list_df = []"
   ]
  },
  {
   "cell_type": "code",
   "execution_count": 37,
   "metadata": {},
   "outputs": [],
   "source": [
    "for item in links:\n",
    "    # All logic\n",
    "    # get https responses\n",
    "    response = requests.get(item,headers=headers)\n",
    "    #convert it into bs4 object\n",
    "    soup = bs4.BeautifulSoup(response.text, 'lxml')\n",
    "    # get the comparison table\n",
    "    table = soup.select(\"#HLCXComparisonTable\")\n",
    "    # Read HTML\n",
    "    table_pandas = pd.read_html(table[0].__str__(), header=0)[0]\n",
    "    # add a column as index\n",
    "    table_pandas.set_index('Unnamed: 0', inplace=True)\n",
    "    # Cut the dataframe\n",
    "    short = table_pandas.loc[attributes_to_ask]\n",
    "    # collect the result\n",
    "    list_df.append(short.T[:1])"
   ]
  },
  {
   "cell_type": "markdown",
   "metadata": {},
   "source": [
    "## Concat the created DataFrames"
   ]
  },
  {
   "cell_type": "code",
   "execution_count": 38,
   "metadata": {},
   "outputs": [
    {
     "data": {
      "text/html": [
       "<div>\n",
       "<style scoped>\n",
       "    .dataframe tbody tr th:only-of-type {\n",
       "        vertical-align: middle;\n",
       "    }\n",
       "\n",
       "    .dataframe tbody tr th {\n",
       "        vertical-align: top;\n",
       "    }\n",
       "\n",
       "    .dataframe thead th {\n",
       "        text-align: right;\n",
       "    }\n",
       "</style>\n",
       "<table border=\"1\" class=\"dataframe\">\n",
       "  <thead>\n",
       "    <tr style=\"text-align: right;\">\n",
       "      <th>Unnamed: 0</th>\n",
       "      <th>Price</th>\n",
       "      <th>Display Size</th>\n",
       "      <th>Hard Disk Size</th>\n",
       "      <th>Processor Count</th>\n",
       "      <th>Processor (CPU) Speed</th>\n",
       "      <th>Item Weight</th>\n",
       "    </tr>\n",
       "  </thead>\n",
       "  <tbody>\n",
       "    <tr>\n",
       "      <th>This item  Acer Aspire 5 Slim Laptop, 15.6 inches Full HD IPS Display, AMD Ryzen 3 3200U, Vega 3 Graphics, 4GB DDR4, 128GB SSD, Backlit Keyboard, Windows 10 in S Mode, A515-43-R19L  #1 Best Seller</th>\n",
       "      <td>$308.98$30898</td>\n",
       "      <td>15.6 in</td>\n",
       "      <td>128 GB</td>\n",
       "      <td>2</td>\n",
       "      <td>3.5 GHz</td>\n",
       "      <td>3.97 lbs</td>\n",
       "    </tr>\n",
       "    <tr>\n",
       "      <th>This item  Lenovo Chromebook S330 Laptop, 14-Inch FHD (1920 x 1080) Display, MediaTek MT8173C Processor, 4GB LPDDR3, 64GB eMMC, Chrome OS, 81JW0000US, Business Black</th>\n",
       "      <td>$219.99$21999</td>\n",
       "      <td>14 in</td>\n",
       "      <td>64 GB</td>\n",
       "      <td>4</td>\n",
       "      <td>2.1 GHz</td>\n",
       "      <td>3.3 lbs</td>\n",
       "    </tr>\n",
       "    <tr>\n",
       "      <th>This item  Dell Inspiron 13 5000 2-in-1 - 13.3\" FHD Touch - 8th Gen Intel i5-8250U - 8GB Memory - 256GB SSD - Intel UHD Graphics 620 - Theoretical Gray - i5379-5893GRY-PUS</th>\n",
       "      <td>$608.00$60800</td>\n",
       "      <td>13.3 in</td>\n",
       "      <td>256 GB</td>\n",
       "      <td>2</td>\n",
       "      <td>3.4 GHz</td>\n",
       "      <td>3.56 lbs</td>\n",
       "    </tr>\n",
       "    <tr>\n",
       "      <th>This item  Asus ZenBook 13 Ultra-Slim Laptop, 13.3\" Full HD Wideview, 8th Gen Intel Core I5-8265U, 8GB LPDDR3, 512GB PCIe SSD, Backlit KB, Fingerprint, Slate Gray, Windows 10, UX331FA-AS51</th>\n",
       "      <td>$783.99$78399</td>\n",
       "      <td>13.3 in</td>\n",
       "      <td>512 GB</td>\n",
       "      <td>4</td>\n",
       "      <td>3.9 GHz</td>\n",
       "      <td>2.5 lbs</td>\n",
       "    </tr>\n",
       "  </tbody>\n",
       "</table>\n",
       "</div>"
      ],
      "text/plain": [
       "Unnamed: 0                                                  Price  \\\n",
       "This item  Acer Aspire 5 Slim Laptop, 15.6 inch...  $308.98$30898   \n",
       "This item  Lenovo Chromebook S330 Laptop, 14-In...  $219.99$21999   \n",
       "This item  Dell Inspiron 13 5000 2-in-1 - 13.3\"...  $608.00$60800   \n",
       "This item  Asus ZenBook 13 Ultra-Slim Laptop, 1...  $783.99$78399   \n",
       "\n",
       "Unnamed: 0                                         Display Size  \\\n",
       "This item  Acer Aspire 5 Slim Laptop, 15.6 inch...      15.6 in   \n",
       "This item  Lenovo Chromebook S330 Laptop, 14-In...        14 in   \n",
       "This item  Dell Inspiron 13 5000 2-in-1 - 13.3\"...      13.3 in   \n",
       "This item  Asus ZenBook 13 Ultra-Slim Laptop, 1...      13.3 in   \n",
       "\n",
       "Unnamed: 0                                         Hard Disk Size  \\\n",
       "This item  Acer Aspire 5 Slim Laptop, 15.6 inch...         128 GB   \n",
       "This item  Lenovo Chromebook S330 Laptop, 14-In...          64 GB   \n",
       "This item  Dell Inspiron 13 5000 2-in-1 - 13.3\"...         256 GB   \n",
       "This item  Asus ZenBook 13 Ultra-Slim Laptop, 1...         512 GB   \n",
       "\n",
       "Unnamed: 0                                         Processor Count  \\\n",
       "This item  Acer Aspire 5 Slim Laptop, 15.6 inch...               2   \n",
       "This item  Lenovo Chromebook S330 Laptop, 14-In...               4   \n",
       "This item  Dell Inspiron 13 5000 2-in-1 - 13.3\"...               2   \n",
       "This item  Asus ZenBook 13 Ultra-Slim Laptop, 1...               4   \n",
       "\n",
       "Unnamed: 0                                         Processor (CPU) Speed  \\\n",
       "This item  Acer Aspire 5 Slim Laptop, 15.6 inch...               3.5 GHz   \n",
       "This item  Lenovo Chromebook S330 Laptop, 14-In...               2.1 GHz   \n",
       "This item  Dell Inspiron 13 5000 2-in-1 - 13.3\"...               3.4 GHz   \n",
       "This item  Asus ZenBook 13 Ultra-Slim Laptop, 1...               3.9 GHz   \n",
       "\n",
       "Unnamed: 0                                         Item Weight  \n",
       "This item  Acer Aspire 5 Slim Laptop, 15.6 inch...    3.97 lbs  \n",
       "This item  Lenovo Chromebook S330 Laptop, 14-In...     3.3 lbs  \n",
       "This item  Dell Inspiron 13 5000 2-in-1 - 13.3\"...    3.56 lbs  \n",
       "This item  Asus ZenBook 13 Ultra-Slim Laptop, 1...     2.5 lbs  "
      ]
     },
     "execution_count": 38,
     "metadata": {},
     "output_type": "execute_result"
    }
   ],
   "source": [
    "laptops = pd.concat(list_df)\n",
    "laptops"
   ]
  },
  {
   "cell_type": "markdown",
   "metadata": {},
   "source": [
    "## Clean data"
   ]
  },
  {
   "cell_type": "code",
   "execution_count": 55,
   "metadata": {},
   "outputs": [],
   "source": [
    "laptops['Display Size'] = laptops['Display Size'].apply(lambda x: float(x.replace('in','').strip()))"
   ]
  },
  {
   "cell_type": "code",
   "execution_count": 51,
   "metadata": {},
   "outputs": [],
   "source": [
    "laptops['Hard Disk Size'] = laptops['Hard Disk Size'].apply(lambda x: int(x.replace('GB','').strip()))"
   ]
  },
  {
   "cell_type": "code",
   "execution_count": 52,
   "metadata": {},
   "outputs": [],
   "source": [
    "laptops['Processor (CPU) Speed'] = laptops['Processor (CPU) Speed'].apply(lambda x: float(x.replace('GHz','').strip()))"
   ]
  },
  {
   "cell_type": "code",
   "execution_count": 53,
   "metadata": {},
   "outputs": [],
   "source": [
    "laptops['Item Weight'] = laptops['Item Weight'].apply(lambda x: float(x.replace('lbs','').strip()))"
   ]
  },
  {
   "cell_type": "code",
   "execution_count": 59,
   "metadata": {},
   "outputs": [],
   "source": [
    "laptops['Price'] = laptops['Price'].apply(lambda x: float(x.replace('$','').strip()))"
   ]
  },
  {
   "cell_type": "code",
   "execution_count": 67,
   "metadata": {},
   "outputs": [],
   "source": [
    "laptops.columns.name = 'Item'"
   ]
  },
  {
   "cell_type": "code",
   "execution_count": 68,
   "metadata": {},
   "outputs": [
    {
     "data": {
      "text/html": [
       "<div>\n",
       "<style scoped>\n",
       "    .dataframe tbody tr th:only-of-type {\n",
       "        vertical-align: middle;\n",
       "    }\n",
       "\n",
       "    .dataframe tbody tr th {\n",
       "        vertical-align: top;\n",
       "    }\n",
       "\n",
       "    .dataframe thead th {\n",
       "        text-align: right;\n",
       "    }\n",
       "</style>\n",
       "<table border=\"1\" class=\"dataframe\">\n",
       "  <thead>\n",
       "    <tr style=\"text-align: right;\">\n",
       "      <th>Item</th>\n",
       "      <th>Price</th>\n",
       "      <th>Display Size</th>\n",
       "      <th>Hard Disk Size</th>\n",
       "      <th>Processor Count</th>\n",
       "      <th>Processor (CPU) Speed</th>\n",
       "      <th>Item Weight</th>\n",
       "    </tr>\n",
       "  </thead>\n",
       "  <tbody>\n",
       "    <tr>\n",
       "      <th>This item  Acer Aspire 5 Slim Laptop, 15.6 inches Full HD IPS Display, AMD Ryzen 3 3200U, Vega 3 Graphics, 4GB DDR4, 128GB SSD, Backlit Keyboard, Windows 10 in S Mode, A515-43-R19L  #1 Best Seller</th>\n",
       "      <td>308.98309</td>\n",
       "      <td>15.6</td>\n",
       "      <td>128</td>\n",
       "      <td>2</td>\n",
       "      <td>3.5</td>\n",
       "      <td>3.97</td>\n",
       "    </tr>\n",
       "    <tr>\n",
       "      <th>This item  Lenovo Chromebook S330 Laptop, 14-Inch FHD (1920 x 1080) Display, MediaTek MT8173C Processor, 4GB LPDDR3, 64GB eMMC, Chrome OS, 81JW0000US, Business Black</th>\n",
       "      <td>219.99220</td>\n",
       "      <td>14.0</td>\n",
       "      <td>64</td>\n",
       "      <td>4</td>\n",
       "      <td>2.1</td>\n",
       "      <td>3.30</td>\n",
       "    </tr>\n",
       "    <tr>\n",
       "      <th>This item  Dell Inspiron 13 5000 2-in-1 - 13.3\" FHD Touch - 8th Gen Intel i5-8250U - 8GB Memory - 256GB SSD - Intel UHD Graphics 620 - Theoretical Gray - i5379-5893GRY-PUS</th>\n",
       "      <td>608.00608</td>\n",
       "      <td>13.3</td>\n",
       "      <td>256</td>\n",
       "      <td>2</td>\n",
       "      <td>3.4</td>\n",
       "      <td>3.56</td>\n",
       "    </tr>\n",
       "    <tr>\n",
       "      <th>This item  Asus ZenBook 13 Ultra-Slim Laptop, 13.3\" Full HD Wideview, 8th Gen Intel Core I5-8265U, 8GB LPDDR3, 512GB PCIe SSD, Backlit KB, Fingerprint, Slate Gray, Windows 10, UX331FA-AS51</th>\n",
       "      <td>783.99784</td>\n",
       "      <td>13.3</td>\n",
       "      <td>512</td>\n",
       "      <td>4</td>\n",
       "      <td>3.9</td>\n",
       "      <td>2.50</td>\n",
       "    </tr>\n",
       "  </tbody>\n",
       "</table>\n",
       "</div>"
      ],
      "text/plain": [
       "Item                                                    Price  Display Size  \\\n",
       "This item  Acer Aspire 5 Slim Laptop, 15.6 inch...  308.98309          15.6   \n",
       "This item  Lenovo Chromebook S330 Laptop, 14-In...  219.99220          14.0   \n",
       "This item  Dell Inspiron 13 5000 2-in-1 - 13.3\"...  608.00608          13.3   \n",
       "This item  Asus ZenBook 13 Ultra-Slim Laptop, 1...  783.99784          13.3   \n",
       "\n",
       "Item                                                Hard Disk Size  \\\n",
       "This item  Acer Aspire 5 Slim Laptop, 15.6 inch...             128   \n",
       "This item  Lenovo Chromebook S330 Laptop, 14-In...              64   \n",
       "This item  Dell Inspiron 13 5000 2-in-1 - 13.3\"...             256   \n",
       "This item  Asus ZenBook 13 Ultra-Slim Laptop, 1...             512   \n",
       "\n",
       "Item                                               Processor Count  \\\n",
       "This item  Acer Aspire 5 Slim Laptop, 15.6 inch...               2   \n",
       "This item  Lenovo Chromebook S330 Laptop, 14-In...               4   \n",
       "This item  Dell Inspiron 13 5000 2-in-1 - 13.3\"...               2   \n",
       "This item  Asus ZenBook 13 Ultra-Slim Laptop, 1...               4   \n",
       "\n",
       "Item                                                Processor (CPU) Speed  \\\n",
       "This item  Acer Aspire 5 Slim Laptop, 15.6 inch...                    3.5   \n",
       "This item  Lenovo Chromebook S330 Laptop, 14-In...                    2.1   \n",
       "This item  Dell Inspiron 13 5000 2-in-1 - 13.3\"...                    3.4   \n",
       "This item  Asus ZenBook 13 Ultra-Slim Laptop, 1...                    3.9   \n",
       "\n",
       "Item                                                Item Weight  \n",
       "This item  Acer Aspire 5 Slim Laptop, 15.6 inch...         3.97  \n",
       "This item  Lenovo Chromebook S330 Laptop, 14-In...         3.30  \n",
       "This item  Dell Inspiron 13 5000 2-in-1 - 13.3\"...         3.56  \n",
       "This item  Asus ZenBook 13 Ultra-Slim Laptop, 1...         2.50  "
      ]
     },
     "execution_count": 68,
     "metadata": {},
     "output_type": "execute_result"
    }
   ],
   "source": [
    "laptops"
   ]
  },
  {
   "cell_type": "code",
   "execution_count": 69,
   "metadata": {},
   "outputs": [],
   "source": []
  },
  {
   "cell_type": "code",
   "execution_count": null,
   "metadata": {},
   "outputs": [],
   "source": []
  }
 ],
 "metadata": {
  "kernelspec": {
   "display_name": "Python 3",
   "language": "python",
   "name": "python3"
  },
  "language_info": {
   "codemirror_mode": {
    "name": "ipython",
    "version": 3
   },
   "file_extension": ".py",
   "mimetype": "text/x-python",
   "name": "python",
   "nbconvert_exporter": "python",
   "pygments_lexer": "ipython3",
   "version": "3.7.1"
  }
 },
 "nbformat": 4,
 "nbformat_minor": 2
}
