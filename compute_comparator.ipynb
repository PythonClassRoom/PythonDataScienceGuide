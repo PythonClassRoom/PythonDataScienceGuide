{
 "cells": [
  {
   "cell_type": "code",
   "execution_count": 1,
   "metadata": {},
   "outputs": [],
   "source": [
    "import pandas as pd\n",
    "import numpy as np\n",
    "import requests\n",
    "import bs4"
   ]
  },
  {
   "cell_type": "code",
   "execution_count": 2,
   "metadata": {},
   "outputs": [],
   "source": [
    "link1 = 'https://www.amazon.com/Acer-Display-Graphics-Keyboard-A515-43-R19L/dp/B07RF1XD36/ref=sr_1_3?keywords=laptop&qid=1574479481&sr=8-3'\n",
    "link2 = 'https://www.amazon.com/Lenovo-Ideapad-Dual-Core-Pentium-Bluetooth/dp/B07T45LGM6/ref=sr_1_3?crid=2B3N178WXH14L&keywords=lenovo+s145&qid=1574484453&sprefix=lenovo+s1%2Caps%2C214&sr=8-3'"
   ]
  },
  {
   "cell_type": "code",
   "execution_count": 3,
   "metadata": {},
   "outputs": [],
   "source": [
    "headers = {\n",
    "    \"User-Agent\":\"Mozilla/5.0 (Windows NT 10.0; Win64;     x64; rv:66.0) Gecko/20100101 Firefox/66.0\", \n",
    "    \"Accept-Encoding\":\"gzip, deflate\",     \n",
    "    \"Accept\":\"text/html,application/xhtml+xml,application/xml;q=0.9,*/*;q=0.8\", \n",
    "    \"DNT\":\"1\",\n",
    "    \"Connection\":\"close\", \n",
    "    \"Upgrade-Insecure-Requests\":\"1\"\n",
    "}"
   ]
  },
  {
   "cell_type": "code",
   "execution_count": 4,
   "metadata": {},
   "outputs": [
    {
     "data": {
      "text/plain": [
       "<Response [200]>"
      ]
     },
     "execution_count": 4,
     "metadata": {},
     "output_type": "execute_result"
    }
   ],
   "source": [
    "response = requests.get(link1, headers=headers)\n",
    "response"
   ]
  },
  {
   "cell_type": "code",
   "execution_count": 5,
   "metadata": {},
   "outputs": [],
   "source": [
    "soup = bs4.BeautifulSoup(response.text, 'lxml')"
   ]
  },
  {
   "cell_type": "code",
   "execution_count": 6,
   "metadata": {},
   "outputs": [],
   "source": [
    "attributes_to_ask = [\n",
    "    'price', 'Display Resolution Max','Display Size', \n",
    "    'Hard Disk Size', 'Processor Count', 'Processor (CPU) Speed', 'Item Weight'\n",
    "]"
   ]
  },
  {
   "cell_type": "code",
   "execution_count": 7,
   "metadata": {},
   "outputs": [
    {
     "data": {
      "text/plain": [
       "'$308.98'"
      ]
     },
     "execution_count": 7,
     "metadata": {},
     "output_type": "execute_result"
    }
   ],
   "source": [
    "# price \n",
    "soup.select(\".comparison_baseitem_column .a-price .a-offscreen\")[0].text"
   ]
  },
  {
   "cell_type": "code",
   "execution_count": 8,
   "metadata": {},
   "outputs": [],
   "source": [
    "# Display Resolution Max\n",
    "rows = soup.select(\".comparison_other_attribute_row\")"
   ]
  },
  {
   "cell_type": "code",
   "execution_count": 9,
   "metadata": {},
   "outputs": [
    {
     "data": {
      "text/plain": [
       "['computer memory size',\n",
       " 'Processor (CPU) Manufacturer',\n",
       " 'Processor (CPU) Speed',\n",
       " 'Display Resolution Max',\n",
       " 'Display Size',\n",
       " 'Display Technology',\n",
       " 'Hard Disk Size',\n",
       " 'Item Dimensions',\n",
       " 'Item Weight',\n",
       " 'Operating System',\n",
       " 'Processor Count',\n",
       " 'System RAM Type',\n",
       " 'Wireless Compatibility']"
      ]
     },
     "execution_count": 9,
     "metadata": {},
     "output_type": "execute_result"
    }
   ],
   "source": [
    "[col.select(\".comparison_table_first_col\")[0].text.strip() for col in rows]"
   ]
  },
  {
   "cell_type": "code",
   "execution_count": 11,
   "metadata": {},
   "outputs": [],
   "source": [
    "# append rows that matches with attributes_to_ask"
   ]
  },
  {
   "cell_type": "code",
   "execution_count": 13,
   "metadata": {},
   "outputs": [],
   "source": [
    "table = soup.select(\"#HLCXComparisonTable\")"
   ]
  },
  {
   "cell_type": "code",
   "execution_count": 17,
   "metadata": {},
   "outputs": [
    {
     "data": {
      "text/plain": [
       "str"
      ]
     },
     "execution_count": 17,
     "metadata": {},
     "output_type": "execute_result"
    }
   ],
   "source": [
    "type(table[0].text)"
   ]
  },
  {
   "cell_type": "code",
   "execution_count": 38,
   "metadata": {},
   "outputs": [
    {
     "data": {
      "text/html": [
       "<div>\n",
       "<style scoped>\n",
       "    .dataframe tbody tr th:only-of-type {\n",
       "        vertical-align: middle;\n",
       "    }\n",
       "\n",
       "    .dataframe tbody tr th {\n",
       "        vertical-align: top;\n",
       "    }\n",
       "\n",
       "    .dataframe thead th {\n",
       "        text-align: right;\n",
       "    }\n",
       "</style>\n",
       "<table border=\"1\" class=\"dataframe\">\n",
       "  <thead>\n",
       "    <tr style=\"text-align: right;\">\n",
       "      <th></th>\n",
       "      <th>Unnamed: 0</th>\n",
       "      <th>This item  Acer Aspire 5 Slim Laptop, 15.6 inches Full HD IPS Display, AMD Ryzen 3 3200U, Vega 3 Graphics, 4GB DDR4, 128GB SSD, Backlit Keyboard, Windows 10 in S Mode, A515-43-R19L  #1 Best Seller</th>\n",
       "      <th>Acer Aspire 5 Slim Laptop, 15.6\" Full HD IPS Display, 8th Gen Intel Core i3-8145U, 4GB DDR4, 128GB PCIe Nvme SSD, Backlit Keyboard, Windows 10 in S Mode, A515-54-30BQ</th>\n",
       "      <th>ASUS VivoBook L203MA Ultra-Thin Laptop, Intel Celeron N4000 Processor, 4GB RAM, 64GB eMMC storage, 11.6\" HD, USB-C, Wi-Fi 5, Windows 10, L203MA-DS04, One Year of Microsoft Office 365</th>\n",
       "      <th>Acer Aspire 5 AMD Ryzen 3200U 2.60GHz 4GB Ram 128GB SSD Windows 10 Home (Renewed)</th>\n",
       "      <th>HP 15.6\" HD 2019 New Touch-Screen Laptop Notebook Computer, Intel Pentium Quad-Core N5000 (up to 2.7 GHz), 8GB DDR4, 1TB HDD, Bluetooth, Wi-Fi, HDMI, Webcam, Win 10</th>\n",
       "      <th>HP 2018 Elitebook 840 G1 14' HD LED-backlit anti-glare Laptop Computer, Intel Dual-Core i5-4300U up to 2.9GHz, 8GB RAM, 500GB HDD, USB 3.0, Bluetooth, Window 10 Professional (Renewed)</th>\n",
       "    </tr>\n",
       "  </thead>\n",
       "  <tbody>\n",
       "    <tr>\n",
       "      <th>0</th>\n",
       "      <td>NaN</td>\n",
       "      <td>NaN</td>\n",
       "      <td>NaN</td>\n",
       "      <td>NaN</td>\n",
       "      <td>NaN</td>\n",
       "      <td>NaN</td>\n",
       "      <td>NaN</td>\n",
       "    </tr>\n",
       "    <tr>\n",
       "      <th>1</th>\n",
       "      <td>NaN</td>\n",
       "      <td>Add to Cart</td>\n",
       "      <td>Add to Cart</td>\n",
       "      <td>Add to Cart</td>\n",
       "      <td>Add to Cart</td>\n",
       "      <td>Add to Cart</td>\n",
       "      <td>Add to Cart</td>\n",
       "    </tr>\n",
       "    <tr>\n",
       "      <th>2</th>\n",
       "      <td>Customer Rating</td>\n",
       "      <td>4 out of 5 stars (1009)</td>\n",
       "      <td>4 out of 5 stars (96)</td>\n",
       "      <td>4 out of 5 stars (285)</td>\n",
       "      <td>4 out of 5 stars (5)</td>\n",
       "      <td>4 out of 5 stars (86)</td>\n",
       "      <td>3 out of 5 stars (237)</td>\n",
       "    </tr>\n",
       "    <tr>\n",
       "      <th>3</th>\n",
       "      <td>Price</td>\n",
       "      <td>$308.98$30898</td>\n",
       "      <td>$349.99$34999</td>\n",
       "      <td>$209.99$20999</td>\n",
       "      <td>$279.99$27999</td>\n",
       "      <td>$348.59$34859</td>\n",
       "      <td>$220.00$22000</td>\n",
       "    </tr>\n",
       "    <tr>\n",
       "      <th>4</th>\n",
       "      <td>Sold By</td>\n",
       "      <td>Amazon.com</td>\n",
       "      <td>Amazon.com</td>\n",
       "      <td>Amazon.com</td>\n",
       "      <td>Acer Recertified Store</td>\n",
       "      <td>National Sales LLC (We Record S/N)</td>\n",
       "      <td>OdysseyComputersMD Warehouse</td>\n",
       "    </tr>\n",
       "  </tbody>\n",
       "</table>\n",
       "</div>"
      ],
      "text/plain": [
       "        Unnamed: 0  \\\n",
       "0              NaN   \n",
       "1              NaN   \n",
       "2  Customer Rating   \n",
       "3            Price   \n",
       "4          Sold By   \n",
       "\n",
       "  This item  Acer Aspire 5 Slim Laptop, 15.6 inches Full HD IPS Display, AMD Ryzen 3 3200U, Vega 3 Graphics, 4GB DDR4, 128GB SSD, Backlit Keyboard, Windows 10 in S Mode, A515-43-R19L  #1 Best Seller  \\\n",
       "0                                                NaN                                                                                                                                                     \n",
       "1                                        Add to Cart                                                                                                                                                     \n",
       "2                            4 out of 5 stars (1009)                                                                                                                                                     \n",
       "3                                      $308.98$30898                                                                                                                                                     \n",
       "4                                         Amazon.com                                                                                                                                                     \n",
       "\n",
       "  Acer Aspire 5 Slim Laptop, 15.6\" Full HD IPS Display, 8th Gen Intel Core i3-8145U, 4GB DDR4, 128GB PCIe Nvme SSD, Backlit Keyboard, Windows 10 in S Mode, A515-54-30BQ  \\\n",
       "0                                                NaN                                                                                                                       \n",
       "1                                        Add to Cart                                                                                                                       \n",
       "2                              4 out of 5 stars (96)                                                                                                                       \n",
       "3                                      $349.99$34999                                                                                                                       \n",
       "4                                         Amazon.com                                                                                                                       \n",
       "\n",
       "  ASUS VivoBook L203MA Ultra-Thin Laptop, Intel Celeron N4000 Processor, 4GB RAM, 64GB eMMC storage, 11.6\" HD, USB-C, Wi-Fi 5, Windows 10, L203MA-DS04, One Year of Microsoft Office 365  \\\n",
       "0                                                NaN                                                                                                                                       \n",
       "1                                        Add to Cart                                                                                                                                       \n",
       "2                             4 out of 5 stars (285)                                                                                                                                       \n",
       "3                                      $209.99$20999                                                                                                                                       \n",
       "4                                         Amazon.com                                                                                                                                       \n",
       "\n",
       "  Acer Aspire 5 AMD Ryzen 3200U 2.60GHz 4GB Ram 128GB SSD Windows 10 Home (Renewed)  \\\n",
       "0                                                NaN                                  \n",
       "1                                        Add to Cart                                  \n",
       "2                               4 out of 5 stars (5)                                  \n",
       "3                                      $279.99$27999                                  \n",
       "4                             Acer Recertified Store                                  \n",
       "\n",
       "  HP 15.6\" HD 2019 New Touch-Screen Laptop Notebook Computer, Intel Pentium Quad-Core N5000 (up to 2.7 GHz), 8GB DDR4, 1TB HDD, Bluetooth, Wi-Fi, HDMI, Webcam, Win 10  \\\n",
       "0                                                NaN                                                                                                                     \n",
       "1                                        Add to Cart                                                                                                                     \n",
       "2                              4 out of 5 stars (86)                                                                                                                     \n",
       "3                                      $348.59$34859                                                                                                                     \n",
       "4                 National Sales LLC (We Record S/N)                                                                                                                     \n",
       "\n",
       "  HP 2018 Elitebook 840 G1 14' HD LED-backlit anti-glare Laptop Computer, Intel Dual-Core i5-4300U up to 2.9GHz, 8GB RAM, 500GB HDD, USB 3.0, Bluetooth, Window 10 Professional (Renewed)  \n",
       "0                                                NaN                                                                                                                                       \n",
       "1                                        Add to Cart                                                                                                                                       \n",
       "2                             3 out of 5 stars (237)                                                                                                                                       \n",
       "3                                      $220.00$22000                                                                                                                                       \n",
       "4                       OdysseyComputersMD Warehouse                                                                                                                                       "
      ]
     },
     "execution_count": 38,
     "metadata": {},
     "output_type": "execute_result"
    }
   ],
   "source": [
    "table_pandas = pd.read_html(table[0].__str__(), header=0)[0]\n",
    "table_pandas.head()"
   ]
  },
  {
   "cell_type": "code",
   "execution_count": 41,
   "metadata": {},
   "outputs": [],
   "source": [
    " table_pandas.set_index('Unnamed: 0', inplace=True)"
   ]
  },
  {
   "cell_type": "code",
   "execution_count": 47,
   "metadata": {},
   "outputs": [
    {
     "name": "stderr",
     "output_type": "stream",
     "text": [
      "C:\\ProgramData\\Anaconda3\\lib\\site-packages\\ipykernel_launcher.py:1: FutureWarning: \n",
      "Passing list-likes to .loc or [] with any missing label will raise\n",
      "KeyError in the future, you can use .reindex() as an alternative.\n",
      "\n",
      "See the documentation here:\n",
      "https://pandas.pydata.org/pandas-docs/stable/indexing.html#deprecate-loc-reindex-listlike\n",
      "  \"\"\"Entry point for launching an IPython kernel.\n"
     ]
    },
    {
     "data": {
      "text/html": [
       "<div>\n",
       "<style scoped>\n",
       "    .dataframe tbody tr th:only-of-type {\n",
       "        vertical-align: middle;\n",
       "    }\n",
       "\n",
       "    .dataframe tbody tr th {\n",
       "        vertical-align: top;\n",
       "    }\n",
       "\n",
       "    .dataframe thead th {\n",
       "        text-align: right;\n",
       "    }\n",
       "</style>\n",
       "<table border=\"1\" class=\"dataframe\">\n",
       "  <thead>\n",
       "    <tr style=\"text-align: right;\">\n",
       "      <th></th>\n",
       "      <th>This item  Acer Aspire 5 Slim Laptop, 15.6 inches Full HD IPS Display, AMD Ryzen 3 3200U, Vega 3 Graphics, 4GB DDR4, 128GB SSD, Backlit Keyboard, Windows 10 in S Mode, A515-43-R19L  #1 Best Seller</th>\n",
       "      <th>Acer Aspire 5 Slim Laptop, 15.6\" Full HD IPS Display, 8th Gen Intel Core i3-8145U, 4GB DDR4, 128GB PCIe Nvme SSD, Backlit Keyboard, Windows 10 in S Mode, A515-54-30BQ</th>\n",
       "      <th>ASUS VivoBook L203MA Ultra-Thin Laptop, Intel Celeron N4000 Processor, 4GB RAM, 64GB eMMC storage, 11.6\" HD, USB-C, Wi-Fi 5, Windows 10, L203MA-DS04, One Year of Microsoft Office 365</th>\n",
       "      <th>Acer Aspire 5 AMD Ryzen 3200U 2.60GHz 4GB Ram 128GB SSD Windows 10 Home (Renewed)</th>\n",
       "      <th>HP 15.6\" HD 2019 New Touch-Screen Laptop Notebook Computer, Intel Pentium Quad-Core N5000 (up to 2.7 GHz), 8GB DDR4, 1TB HDD, Bluetooth, Wi-Fi, HDMI, Webcam, Win 10</th>\n",
       "      <th>HP 2018 Elitebook 840 G1 14' HD LED-backlit anti-glare Laptop Computer, Intel Dual-Core i5-4300U up to 2.9GHz, 8GB RAM, 500GB HDD, USB 3.0, Bluetooth, Window 10 Professional (Renewed)</th>\n",
       "    </tr>\n",
       "    <tr>\n",
       "      <th>Unnamed: 0</th>\n",
       "      <th></th>\n",
       "      <th></th>\n",
       "      <th></th>\n",
       "      <th></th>\n",
       "      <th></th>\n",
       "      <th></th>\n",
       "    </tr>\n",
       "  </thead>\n",
       "  <tbody>\n",
       "    <tr>\n",
       "      <th>price</th>\n",
       "      <td>NaN</td>\n",
       "      <td>NaN</td>\n",
       "      <td>NaN</td>\n",
       "      <td>NaN</td>\n",
       "      <td>NaN</td>\n",
       "      <td>NaN</td>\n",
       "    </tr>\n",
       "    <tr>\n",
       "      <th>Display Resolution Max</th>\n",
       "      <td>1920 x 1080</td>\n",
       "      <td>1920 x 1080</td>\n",
       "      <td>1920 x 1080 pixels</td>\n",
       "      <td>1920 x 1080</td>\n",
       "      <td>1366 x 768</td>\n",
       "      <td>—</td>\n",
       "    </tr>\n",
       "    <tr>\n",
       "      <th>Display Size</th>\n",
       "      <td>15.6 in</td>\n",
       "      <td>15.6 in</td>\n",
       "      <td>11.6 in</td>\n",
       "      <td>15.6 in</td>\n",
       "      <td>15.6 in</td>\n",
       "      <td>14 in</td>\n",
       "    </tr>\n",
       "    <tr>\n",
       "      <th>Hard Disk Size</th>\n",
       "      <td>128 GB</td>\n",
       "      <td>128 GB</td>\n",
       "      <td>64 GB</td>\n",
       "      <td>128 GB</td>\n",
       "      <td>1 TB</td>\n",
       "      <td>500 GB</td>\n",
       "    </tr>\n",
       "    <tr>\n",
       "      <th>Processor Count</th>\n",
       "      <td>2</td>\n",
       "      <td>2</td>\n",
       "      <td>2</td>\n",
       "      <td>1</td>\n",
       "      <td>1</td>\n",
       "      <td>2</td>\n",
       "    </tr>\n",
       "    <tr>\n",
       "      <th>Processor (CPU) Speed</th>\n",
       "      <td>3.5 GHz</td>\n",
       "      <td>3.9 GHz</td>\n",
       "      <td>2.6 GHz</td>\n",
       "      <td>2.6 GHz</td>\n",
       "      <td>2.7 GHz</td>\n",
       "      <td>2.9 GHz</td>\n",
       "    </tr>\n",
       "    <tr>\n",
       "      <th>Item Weight</th>\n",
       "      <td>3.97 lbs</td>\n",
       "      <td>3.97 lbs</td>\n",
       "      <td>2.2 lbs</td>\n",
       "      <td>4.19 lbs</td>\n",
       "      <td>4.41 lbs</td>\n",
       "      <td>6 lbs</td>\n",
       "    </tr>\n",
       "  </tbody>\n",
       "</table>\n",
       "</div>"
      ],
      "text/plain": [
       "                       This item  Acer Aspire 5 Slim Laptop, 15.6 inches Full HD IPS Display, AMD Ryzen 3 3200U, Vega 3 Graphics, 4GB DDR4, 128GB SSD, Backlit Keyboard, Windows 10 in S Mode, A515-43-R19L  #1 Best Seller  \\\n",
       "Unnamed: 0                                                                                                                                                                                                                    \n",
       "price                                                                 NaN                                                                                                                                                     \n",
       "Display Resolution Max                                        1920 x 1080                                                                                                                                                     \n",
       "Display Size                                                      15.6 in                                                                                                                                                     \n",
       "Hard Disk Size                                                     128 GB                                                                                                                                                     \n",
       "Processor Count                                                         2                                                                                                                                                     \n",
       "Processor (CPU) Speed                                             3.5 GHz                                                                                                                                                     \n",
       "Item Weight                                                      3.97 lbs                                                                                                                                                     \n",
       "\n",
       "                       Acer Aspire 5 Slim Laptop, 15.6\" Full HD IPS Display, 8th Gen Intel Core i3-8145U, 4GB DDR4, 128GB PCIe Nvme SSD, Backlit Keyboard, Windows 10 in S Mode, A515-54-30BQ  \\\n",
       "Unnamed: 0                                                                                                                                                                                      \n",
       "price                                                                 NaN                                                                                                                       \n",
       "Display Resolution Max                                        1920 x 1080                                                                                                                       \n",
       "Display Size                                                      15.6 in                                                                                                                       \n",
       "Hard Disk Size                                                     128 GB                                                                                                                       \n",
       "Processor Count                                                         2                                                                                                                       \n",
       "Processor (CPU) Speed                                             3.9 GHz                                                                                                                       \n",
       "Item Weight                                                      3.97 lbs                                                                                                                       \n",
       "\n",
       "                       ASUS VivoBook L203MA Ultra-Thin Laptop, Intel Celeron N4000 Processor, 4GB RAM, 64GB eMMC storage, 11.6\" HD, USB-C, Wi-Fi 5, Windows 10, L203MA-DS04, One Year of Microsoft Office 365  \\\n",
       "Unnamed: 0                                                                                                                                                                                                      \n",
       "price                                                                 NaN                                                                                                                                       \n",
       "Display Resolution Max                                 1920 x 1080 pixels                                                                                                                                       \n",
       "Display Size                                                      11.6 in                                                                                                                                       \n",
       "Hard Disk Size                                                      64 GB                                                                                                                                       \n",
       "Processor Count                                                         2                                                                                                                                       \n",
       "Processor (CPU) Speed                                             2.6 GHz                                                                                                                                       \n",
       "Item Weight                                                       2.2 lbs                                                                                                                                       \n",
       "\n",
       "                       Acer Aspire 5 AMD Ryzen 3200U 2.60GHz 4GB Ram 128GB SSD Windows 10 Home (Renewed)  \\\n",
       "Unnamed: 0                                                                                                 \n",
       "price                                                                 NaN                                  \n",
       "Display Resolution Max                                        1920 x 1080                                  \n",
       "Display Size                                                      15.6 in                                  \n",
       "Hard Disk Size                                                     128 GB                                  \n",
       "Processor Count                                                         1                                  \n",
       "Processor (CPU) Speed                                             2.6 GHz                                  \n",
       "Item Weight                                                      4.19 lbs                                  \n",
       "\n",
       "                       HP 15.6\" HD 2019 New Touch-Screen Laptop Notebook Computer, Intel Pentium Quad-Core N5000 (up to 2.7 GHz), 8GB DDR4, 1TB HDD, Bluetooth, Wi-Fi, HDMI, Webcam, Win 10  \\\n",
       "Unnamed: 0                                                                                                                                                                                    \n",
       "price                                                                 NaN                                                                                                                     \n",
       "Display Resolution Max                                         1366 x 768                                                                                                                     \n",
       "Display Size                                                      15.6 in                                                                                                                     \n",
       "Hard Disk Size                                                       1 TB                                                                                                                     \n",
       "Processor Count                                                         1                                                                                                                     \n",
       "Processor (CPU) Speed                                             2.7 GHz                                                                                                                     \n",
       "Item Weight                                                      4.41 lbs                                                                                                                     \n",
       "\n",
       "                       HP 2018 Elitebook 840 G1 14' HD LED-backlit anti-glare Laptop Computer, Intel Dual-Core i5-4300U up to 2.9GHz, 8GB RAM, 500GB HDD, USB 3.0, Bluetooth, Window 10 Professional (Renewed)  \n",
       "Unnamed: 0                                                                                                                                                                                                      \n",
       "price                                                                 NaN                                                                                                                                       \n",
       "Display Resolution Max                                                  —                                                                                                                                       \n",
       "Display Size                                                        14 in                                                                                                                                       \n",
       "Hard Disk Size                                                     500 GB                                                                                                                                       \n",
       "Processor Count                                                         2                                                                                                                                       \n",
       "Processor (CPU) Speed                                             2.9 GHz                                                                                                                                       \n",
       "Item Weight                                                         6 lbs                                                                                                                                       "
      ]
     },
     "execution_count": 47,
     "metadata": {},
     "output_type": "execute_result"
    }
   ],
   "source": [
    "table_pandas.loc[attributes_to_ask]"
   ]
  },
  {
   "cell_type": "code",
   "execution_count": null,
   "metadata": {},
   "outputs": [],
   "source": []
  }
 ],
 "metadata": {
  "kernelspec": {
   "display_name": "Python 3",
   "language": "python",
   "name": "python3"
  },
  "language_info": {
   "codemirror_mode": {
    "name": "ipython",
    "version": 3
   },
   "file_extension": ".py",
   "mimetype": "text/x-python",
   "name": "python",
   "nbconvert_exporter": "python",
   "pygments_lexer": "ipython3",
   "version": "3.7.1"
  }
 },
 "nbformat": 4,
 "nbformat_minor": 2
}
