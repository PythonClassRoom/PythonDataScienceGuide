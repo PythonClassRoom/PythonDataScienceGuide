{
 "cells": [
  {
   "cell_type": "code",
   "execution_count": 128,
   "metadata": {},
   "outputs": [],
   "source": [
    "import pandas as pd\n",
    "import numpy as np"
   ]
  },
  {
   "cell_type": "markdown",
   "metadata": {},
   "source": [
    "# Read dataset"
   ]
  },
  {
   "cell_type": "code",
   "execution_count": 129,
   "metadata": {},
   "outputs": [
    {
     "data": {
      "text/html": [
       "<div>\n",
       "<style scoped>\n",
       "    .dataframe tbody tr th:only-of-type {\n",
       "        vertical-align: middle;\n",
       "    }\n",
       "\n",
       "    .dataframe tbody tr th {\n",
       "        vertical-align: top;\n",
       "    }\n",
       "\n",
       "    .dataframe thead th {\n",
       "        text-align: right;\n",
       "    }\n",
       "</style>\n",
       "<table border=\"1\" class=\"dataframe\">\n",
       "  <thead>\n",
       "    <tr style=\"text-align: right;\">\n",
       "      <th></th>\n",
       "      <th>dates</th>\n",
       "      <th>Tom</th>\n",
       "      <th>Joe</th>\n",
       "      <th>Charlie</th>\n",
       "    </tr>\n",
       "  </thead>\n",
       "  <tbody>\n",
       "    <tr>\n",
       "      <th>0</th>\n",
       "      <td>10/16/2016</td>\n",
       "      <td>131.10</td>\n",
       "      <td>18.78</td>\n",
       "      <td>210.34</td>\n",
       "    </tr>\n",
       "    <tr>\n",
       "      <th>1</th>\n",
       "      <td>10/17/2016</td>\n",
       "      <td>459.13</td>\n",
       "      <td>424.17</td>\n",
       "      <td>176.03</td>\n",
       "    </tr>\n",
       "    <tr>\n",
       "      <th>2</th>\n",
       "      <td>10/18/2016</td>\n",
       "      <td>338.39</td>\n",
       "      <td>376.78</td>\n",
       "      <td>334.06</td>\n",
       "    </tr>\n",
       "    <tr>\n",
       "      <th>3</th>\n",
       "      <td>10/19/2016</td>\n",
       "      <td>361.32</td>\n",
       "      <td>349.26</td>\n",
       "      <td>456.03</td>\n",
       "    </tr>\n",
       "    <tr>\n",
       "      <th>4</th>\n",
       "      <td>10/20/2016</td>\n",
       "      <td>25.39</td>\n",
       "      <td>434.77</td>\n",
       "      <td>462.00</td>\n",
       "    </tr>\n",
       "  </tbody>\n",
       "</table>\n",
       "</div>"
      ],
      "text/plain": [
       "        dates     Tom     Joe  Charlie\n",
       "0  10/16/2016  131.10   18.78   210.34\n",
       "1  10/17/2016  459.13  424.17   176.03\n",
       "2  10/18/2016  338.39  376.78   334.06\n",
       "3  10/19/2016  361.32  349.26   456.03\n",
       "4  10/20/2016   25.39  434.77   462.00"
      ]
     },
     "execution_count": 129,
     "metadata": {},
     "output_type": "execute_result"
    }
   ],
   "source": [
    "pymarket = pd.read_csv('../datasets/pymarket.csv')\n",
    "pymarket.head()"
   ]
  },
  {
   "cell_type": "markdown",
   "metadata": {},
   "source": [
    "### 1) How much Tom has expend in the market\n",
    "return a value"
   ]
  },
  {
   "cell_type": "code",
   "execution_count": 130,
   "metadata": {},
   "outputs": [
    {
     "data": {
      "text/plain": [
       "222564.53"
      ]
     },
     "execution_count": 130,
     "metadata": {},
     "output_type": "execute_result"
    }
   ],
   "source": [
    "# Answer 1\n",
    "pymarket['Tom'].sum()"
   ]
  },
  {
   "cell_type": "markdown",
   "metadata": {},
   "source": [
    "### 2) Total and mean of Tom and Joe expenses  \n",
    "return a dataframe"
   ]
  },
  {
   "cell_type": "code",
   "execution_count": 131,
   "metadata": {},
   "outputs": [
    {
     "data": {
      "text/html": [
       "<div>\n",
       "<style scoped>\n",
       "    .dataframe tbody tr th:only-of-type {\n",
       "        vertical-align: middle;\n",
       "    }\n",
       "\n",
       "    .dataframe tbody tr th {\n",
       "        vertical-align: top;\n",
       "    }\n",
       "\n",
       "    .dataframe thead th {\n",
       "        text-align: right;\n",
       "    }\n",
       "</style>\n",
       "<table border=\"1\" class=\"dataframe\">\n",
       "  <thead>\n",
       "    <tr style=\"text-align: right;\">\n",
       "      <th></th>\n",
       "      <th>Tom</th>\n",
       "      <th>Joe</th>\n",
       "    </tr>\n",
       "  </thead>\n",
       "  <tbody>\n",
       "    <tr>\n",
       "      <th>sum</th>\n",
       "      <td>222564.530000</td>\n",
       "      <td>214566.86000</td>\n",
       "    </tr>\n",
       "    <tr>\n",
       "      <th>mean</th>\n",
       "      <td>244.307936</td>\n",
       "      <td>237.61557</td>\n",
       "    </tr>\n",
       "  </tbody>\n",
       "</table>\n",
       "</div>"
      ],
      "text/plain": [
       "                Tom           Joe\n",
       "sum   222564.530000  214566.86000\n",
       "mean     244.307936     237.61557"
      ]
     },
     "execution_count": 131,
     "metadata": {},
     "output_type": "execute_result"
    }
   ],
   "source": [
    "pymarket[['Tom','Joe']].agg(['sum', 'mean'])"
   ]
  },
  {
   "cell_type": "markdown",
   "metadata": {},
   "source": [
    "### 3) Which are the days in which the friends expensed more than $100 together  \n",
    "return series"
   ]
  },
  {
   "cell_type": "code",
   "execution_count": 132,
   "metadata": {},
   "outputs": [
    {
     "data": {
      "text/plain": [
       "0    10/16/2016\n",
       "1    10/17/2016\n",
       "2    10/18/2016\n",
       "3    10/19/2016\n",
       "4    10/20/2016\n",
       "Name: dates, dtype: object"
      ]
     },
     "execution_count": 132,
     "metadata": {},
     "output_type": "execute_result"
    }
   ],
   "source": [
    "pymarket.loc[pymarket.sum(axis=1) > 100]['dates'].head() #just print first 5 elements"
   ]
  },
  {
   "cell_type": "markdown",
   "metadata": {},
   "source": [
    "### 4) Which are the days in wich the friends didnt go to the market, any of them\n",
    "return list of string of dates"
   ]
  },
  {
   "cell_type": "code",
   "execution_count": 133,
   "metadata": {},
   "outputs": [
    {
     "data": {
      "text/html": [
       "<div>\n",
       "<style scoped>\n",
       "    .dataframe tbody tr th:only-of-type {\n",
       "        vertical-align: middle;\n",
       "    }\n",
       "\n",
       "    .dataframe tbody tr th {\n",
       "        vertical-align: top;\n",
       "    }\n",
       "\n",
       "    .dataframe thead th {\n",
       "        text-align: right;\n",
       "    }\n",
       "</style>\n",
       "<table border=\"1\" class=\"dataframe\">\n",
       "  <thead>\n",
       "    <tr style=\"text-align: right;\">\n",
       "      <th></th>\n",
       "      <th>Tom</th>\n",
       "      <th>Joe</th>\n",
       "      <th>Charlie</th>\n",
       "    </tr>\n",
       "    <tr>\n",
       "      <th>dates</th>\n",
       "      <th></th>\n",
       "      <th></th>\n",
       "      <th></th>\n",
       "    </tr>\n",
       "  </thead>\n",
       "  <tbody>\n",
       "    <tr>\n",
       "      <th>10/16/2016</th>\n",
       "      <td>131.10</td>\n",
       "      <td>18.78</td>\n",
       "      <td>210.34</td>\n",
       "    </tr>\n",
       "    <tr>\n",
       "      <th>10/17/2016</th>\n",
       "      <td>459.13</td>\n",
       "      <td>424.17</td>\n",
       "      <td>176.03</td>\n",
       "    </tr>\n",
       "    <tr>\n",
       "      <th>10/18/2016</th>\n",
       "      <td>338.39</td>\n",
       "      <td>376.78</td>\n",
       "      <td>334.06</td>\n",
       "    </tr>\n",
       "  </tbody>\n",
       "</table>\n",
       "</div>"
      ],
      "text/plain": [
       "               Tom     Joe  Charlie\n",
       "dates                              \n",
       "10/16/2016  131.10   18.78   210.34\n",
       "10/17/2016  459.13  424.17   176.03\n",
       "10/18/2016  338.39  376.78   334.06"
      ]
     },
     "execution_count": 133,
     "metadata": {},
     "output_type": "execute_result"
    }
   ],
   "source": [
    "# first convert datime to index, to work better\n",
    "pymarket2 = pymarket.set_index('dates')\n",
    "pymarket2.head(3)"
   ]
  },
  {
   "cell_type": "code",
   "execution_count": 134,
   "metadata": {},
   "outputs": [
    {
     "data": {
      "text/plain": [
       "['10/30/2016', '11/5/2016', '12/11/2016', '12/18/2016', '12/21/2016']"
      ]
     },
     "execution_count": 134,
     "metadata": {},
     "output_type": "execute_result"
    }
   ],
   "source": [
    "pymarket2.loc[pymarket2.isnull().all(axis=1)].index.tolist()[:5] # just print 5"
   ]
  },
  {
   "cell_type": "markdown",
   "metadata": {},
   "source": [
    "### 5) Who spent more than the others and who spent less\n",
    "return tuple of the names,(max,min)"
   ]
  },
  {
   "cell_type": "code",
   "execution_count": 135,
   "metadata": {},
   "outputs": [
    {
     "data": {
      "text/plain": [
       "('Tom', 'Joe')"
      ]
     },
     "execution_count": 135,
     "metadata": {},
     "output_type": "execute_result"
    }
   ],
   "source": [
    "(pymarket2.max().idxmax(),pymarket2.min().idxmin())"
   ]
  },
  {
   "cell_type": "markdown",
   "metadata": {},
   "source": [
    "### 6) Who was the guy that visit the market more frecuently\n",
    "return the name (string)"
   ]
  },
  {
   "cell_type": "code",
   "execution_count": 136,
   "metadata": {},
   "outputs": [
    {
     "data": {
      "text/plain": [
       "'Charlie'"
      ]
     },
     "execution_count": 136,
     "metadata": {},
     "output_type": "execute_result"
    }
   ],
   "source": [
    "pymarket2.count().idxmax()"
   ]
  },
  {
   "cell_type": "markdown",
   "metadata": {},
   "source": [
    "### 7) On average, who spends  more every bi-weekly?\n",
    "return a name (str)"
   ]
  },
  {
   "cell_type": "code",
   "execution_count": 137,
   "metadata": {},
   "outputs": [
    {
     "data": {
      "text/plain": [
       "Timestamp('2016-10-16 00:00:00')"
      ]
     },
     "execution_count": 137,
     "metadata": {},
     "output_type": "execute_result"
    }
   ],
   "source": [
    "#convert index to timestamp\n",
    "pymarket['dates']= pd.to_datetime(pymarket['dates']) \n",
    "pymarket.iloc[0].dates"
   ]
  },
  {
   "cell_type": "code",
   "execution_count": 138,
   "metadata": {},
   "outputs": [
    {
     "data": {
      "text/html": [
       "<div>\n",
       "<style scoped>\n",
       "    .dataframe tbody tr th:only-of-type {\n",
       "        vertical-align: middle;\n",
       "    }\n",
       "\n",
       "    .dataframe tbody tr th {\n",
       "        vertical-align: top;\n",
       "    }\n",
       "\n",
       "    .dataframe thead th {\n",
       "        text-align: right;\n",
       "    }\n",
       "</style>\n",
       "<table border=\"1\" class=\"dataframe\">\n",
       "  <thead>\n",
       "    <tr style=\"text-align: right;\">\n",
       "      <th></th>\n",
       "      <th>dates</th>\n",
       "      <th>Tom</th>\n",
       "      <th>Joe</th>\n",
       "      <th>Charlie</th>\n",
       "    </tr>\n",
       "  </thead>\n",
       "  <tbody>\n",
       "    <tr>\n",
       "      <th>0</th>\n",
       "      <td>2016-10-16</td>\n",
       "      <td>131.10</td>\n",
       "      <td>18.78</td>\n",
       "      <td>210.34</td>\n",
       "    </tr>\n",
       "    <tr>\n",
       "      <th>1</th>\n",
       "      <td>2016-10-17</td>\n",
       "      <td>459.13</td>\n",
       "      <td>424.17</td>\n",
       "      <td>176.03</td>\n",
       "    </tr>\n",
       "    <tr>\n",
       "      <th>2</th>\n",
       "      <td>2016-10-18</td>\n",
       "      <td>338.39</td>\n",
       "      <td>376.78</td>\n",
       "      <td>334.06</td>\n",
       "    </tr>\n",
       "  </tbody>\n",
       "</table>\n",
       "</div>"
      ],
      "text/plain": [
       "       dates     Tom     Joe  Charlie\n",
       "0 2016-10-16  131.10   18.78   210.34\n",
       "1 2016-10-17  459.13  424.17   176.03\n",
       "2 2016-10-18  338.39  376.78   334.06"
      ]
     },
     "execution_count": 138,
     "metadata": {},
     "output_type": "execute_result"
    }
   ],
   "source": [
    "pymarket.head(3)"
   ]
  },
  {
   "cell_type": "code",
   "execution_count": 139,
   "metadata": {},
   "outputs": [],
   "source": [
    "# create grouper\n",
    "grouper = pd.Grouper(key='dates', freq='SM')"
   ]
  },
  {
   "cell_type": "code",
   "execution_count": 140,
   "metadata": {},
   "outputs": [
    {
     "data": {
      "text/plain": [
       "'Charlie'"
      ]
     },
     "execution_count": 140,
     "metadata": {},
     "output_type": "execute_result"
    }
   ],
   "source": [
    "pymarket.groupby(grouper).sum().mean().idxmax()"
   ]
  },
  {
   "cell_type": "markdown",
   "metadata": {},
   "source": [
    "### 8) Which are the dates in which each friend spends less than $10  \n",
    "returns a list of dates"
   ]
  },
  {
   "cell_type": "code",
   "execution_count": 141,
   "metadata": {},
   "outputs": [
    {
     "data": {
      "text/html": [
       "<div>\n",
       "<style scoped>\n",
       "    .dataframe tbody tr th:only-of-type {\n",
       "        vertical-align: middle;\n",
       "    }\n",
       "\n",
       "    .dataframe tbody tr th {\n",
       "        vertical-align: top;\n",
       "    }\n",
       "\n",
       "    .dataframe thead th {\n",
       "        text-align: right;\n",
       "    }\n",
       "</style>\n",
       "<table border=\"1\" class=\"dataframe\">\n",
       "  <thead>\n",
       "    <tr style=\"text-align: right;\">\n",
       "      <th></th>\n",
       "      <th>Tom</th>\n",
       "      <th>Joe</th>\n",
       "      <th>Charlie</th>\n",
       "    </tr>\n",
       "    <tr>\n",
       "      <th>dates</th>\n",
       "      <th></th>\n",
       "      <th></th>\n",
       "      <th></th>\n",
       "    </tr>\n",
       "  </thead>\n",
       "  <tbody>\n",
       "    <tr>\n",
       "      <th>2016-10-16</th>\n",
       "      <td>131.10</td>\n",
       "      <td>18.78</td>\n",
       "      <td>210.34</td>\n",
       "    </tr>\n",
       "    <tr>\n",
       "      <th>2016-10-17</th>\n",
       "      <td>459.13</td>\n",
       "      <td>424.17</td>\n",
       "      <td>176.03</td>\n",
       "    </tr>\n",
       "    <tr>\n",
       "      <th>2016-10-18</th>\n",
       "      <td>338.39</td>\n",
       "      <td>376.78</td>\n",
       "      <td>334.06</td>\n",
       "    </tr>\n",
       "  </tbody>\n",
       "</table>\n",
       "</div>"
      ],
      "text/plain": [
       "               Tom     Joe  Charlie\n",
       "dates                              \n",
       "2016-10-16  131.10   18.78   210.34\n",
       "2016-10-17  459.13  424.17   176.03\n",
       "2016-10-18  338.39  376.78   334.06"
      ]
     },
     "execution_count": 141,
     "metadata": {},
     "output_type": "execute_result"
    }
   ],
   "source": [
    "pymarket2 = pymarket.set_index('dates')\n",
    "pymarket2.head(3)"
   ]
  },
  {
   "cell_type": "code",
   "execution_count": 142,
   "metadata": {},
   "outputs": [
    {
     "data": {
      "text/plain": [
       "['2016-11-17',\n",
       " '2017-02-11',\n",
       " '2017-03-11',\n",
       " '2017-04-03',\n",
       " '2017-07-03',\n",
       " '2017-08-18',\n",
       " '2017-09-09',\n",
       " '2017-10-03',\n",
       " '2018-01-22',\n",
       " '2018-02-02',\n",
       " '2018-03-28',\n",
       " '2018-04-25',\n",
       " '2018-07-26',\n",
       " '2018-09-28',\n",
       " '2018-10-03',\n",
       " '2018-11-23',\n",
       " '2018-12-06',\n",
       " '2018-12-19',\n",
       " '2019-02-06',\n",
       " '2019-02-22',\n",
       " '2019-03-24']"
      ]
     },
     "execution_count": 142,
     "metadata": {},
     "output_type": "execute_result"
    }
   ],
   "source": [
    "pymarket[(pymarket.Tom < 10) & (pymarket.Joe < 10) & (pymarket.Charlie < 10)]['dates'].astype(str).tolist()"
   ]
  },
  {
   "cell_type": "markdown",
   "metadata": {},
   "source": [
    "### 9) Create a new column called 'Tips' and calculate the total amount payed by tips for all friends\n",
    "Our friends usually pay tips to the market. The value of tip is the value that rounds the total cost by person.\n",
    "Example, if Tom pays $8.3, then the tip will be $0.7  \n",
    "Return a dataframe\n"
   ]
  },
  {
   "cell_type": "code",
   "execution_count": 143,
   "metadata": {},
   "outputs": [
    {
     "data": {
      "text/html": [
       "<div>\n",
       "<style scoped>\n",
       "    .dataframe tbody tr th:only-of-type {\n",
       "        vertical-align: middle;\n",
       "    }\n",
       "\n",
       "    .dataframe tbody tr th {\n",
       "        vertical-align: top;\n",
       "    }\n",
       "\n",
       "    .dataframe thead th {\n",
       "        text-align: right;\n",
       "    }\n",
       "</style>\n",
       "<table border=\"1\" class=\"dataframe\">\n",
       "  <thead>\n",
       "    <tr style=\"text-align: right;\">\n",
       "      <th></th>\n",
       "      <th>dates</th>\n",
       "      <th>Tom</th>\n",
       "      <th>Joe</th>\n",
       "      <th>Charlie</th>\n",
       "      <th>Tips</th>\n",
       "    </tr>\n",
       "  </thead>\n",
       "  <tbody>\n",
       "    <tr>\n",
       "      <th>0</th>\n",
       "      <td>2016-10-16</td>\n",
       "      <td>131.10</td>\n",
       "      <td>18.78</td>\n",
       "      <td>210.34</td>\n",
       "      <td>0</td>\n",
       "    </tr>\n",
       "    <tr>\n",
       "      <th>1</th>\n",
       "      <td>2016-10-17</td>\n",
       "      <td>459.13</td>\n",
       "      <td>424.17</td>\n",
       "      <td>176.03</td>\n",
       "      <td>0</td>\n",
       "    </tr>\n",
       "    <tr>\n",
       "      <th>2</th>\n",
       "      <td>2016-10-18</td>\n",
       "      <td>338.39</td>\n",
       "      <td>376.78</td>\n",
       "      <td>334.06</td>\n",
       "      <td>0</td>\n",
       "    </tr>\n",
       "  </tbody>\n",
       "</table>\n",
       "</div>"
      ],
      "text/plain": [
       "       dates     Tom     Joe  Charlie  Tips\n",
       "0 2016-10-16  131.10   18.78   210.34     0\n",
       "1 2016-10-17  459.13  424.17   176.03     0\n",
       "2 2016-10-18  338.39  376.78   334.06     0"
      ]
     },
     "execution_count": 143,
     "metadata": {},
     "output_type": "execute_result"
    }
   ],
   "source": [
    "pymarket['Tips'] = 0\n",
    "pymarket.head(3)"
   ]
  },
  {
   "cell_type": "code",
   "execution_count": 144,
   "metadata": {},
   "outputs": [],
   "source": [
    "pymarket9 = pymarket.fillna(0)"
   ]
  },
  {
   "cell_type": "code",
   "execution_count": 145,
   "metadata": {},
   "outputs": [],
   "source": [
    "pymarket9['Tips'] = pymarket9.apply(lambda row: (row.Tom - int(row.Tom)) + (row.Joe - int(row.Joe)) + (row.Charlie - int(row.Charlie)), axis=1)"
   ]
  },
  {
   "cell_type": "code",
   "execution_count": 146,
   "metadata": {},
   "outputs": [
    {
     "data": {
      "text/html": [
       "<div>\n",
       "<style scoped>\n",
       "    .dataframe tbody tr th:only-of-type {\n",
       "        vertical-align: middle;\n",
       "    }\n",
       "\n",
       "    .dataframe tbody tr th {\n",
       "        vertical-align: top;\n",
       "    }\n",
       "\n",
       "    .dataframe thead th {\n",
       "        text-align: right;\n",
       "    }\n",
       "</style>\n",
       "<table border=\"1\" class=\"dataframe\">\n",
       "  <thead>\n",
       "    <tr style=\"text-align: right;\">\n",
       "      <th></th>\n",
       "      <th>dates</th>\n",
       "      <th>Tom</th>\n",
       "      <th>Joe</th>\n",
       "      <th>Charlie</th>\n",
       "      <th>Tips</th>\n",
       "    </tr>\n",
       "  </thead>\n",
       "  <tbody>\n",
       "    <tr>\n",
       "      <th>0</th>\n",
       "      <td>2016-10-16</td>\n",
       "      <td>131.10</td>\n",
       "      <td>18.78</td>\n",
       "      <td>210.34</td>\n",
       "      <td>1.22</td>\n",
       "    </tr>\n",
       "    <tr>\n",
       "      <th>1</th>\n",
       "      <td>2016-10-17</td>\n",
       "      <td>459.13</td>\n",
       "      <td>424.17</td>\n",
       "      <td>176.03</td>\n",
       "      <td>0.33</td>\n",
       "    </tr>\n",
       "    <tr>\n",
       "      <th>2</th>\n",
       "      <td>2016-10-18</td>\n",
       "      <td>338.39</td>\n",
       "      <td>376.78</td>\n",
       "      <td>334.06</td>\n",
       "      <td>1.23</td>\n",
       "    </tr>\n",
       "    <tr>\n",
       "      <th>3</th>\n",
       "      <td>2016-10-19</td>\n",
       "      <td>361.32</td>\n",
       "      <td>349.26</td>\n",
       "      <td>456.03</td>\n",
       "      <td>0.61</td>\n",
       "    </tr>\n",
       "    <tr>\n",
       "      <th>4</th>\n",
       "      <td>2016-10-20</td>\n",
       "      <td>25.39</td>\n",
       "      <td>434.77</td>\n",
       "      <td>462.00</td>\n",
       "      <td>1.16</td>\n",
       "    </tr>\n",
       "    <tr>\n",
       "      <th>5</th>\n",
       "      <td>2016-10-21</td>\n",
       "      <td>181.40</td>\n",
       "      <td>66.56</td>\n",
       "      <td>448.09</td>\n",
       "      <td>1.05</td>\n",
       "    </tr>\n",
       "    <tr>\n",
       "      <th>6</th>\n",
       "      <td>2016-10-22</td>\n",
       "      <td>348.83</td>\n",
       "      <td>65.75</td>\n",
       "      <td>277.36</td>\n",
       "      <td>1.94</td>\n",
       "    </tr>\n",
       "    <tr>\n",
       "      <th>7</th>\n",
       "      <td>2016-10-23</td>\n",
       "      <td>128.45</td>\n",
       "      <td>259.85</td>\n",
       "      <td>466.54</td>\n",
       "      <td>1.84</td>\n",
       "    </tr>\n",
       "    <tr>\n",
       "      <th>8</th>\n",
       "      <td>2016-10-24</td>\n",
       "      <td>209.89</td>\n",
       "      <td>69.28</td>\n",
       "      <td>440.32</td>\n",
       "      <td>1.49</td>\n",
       "    </tr>\n",
       "    <tr>\n",
       "      <th>9</th>\n",
       "      <td>2016-10-25</td>\n",
       "      <td>455.62</td>\n",
       "      <td>211.44</td>\n",
       "      <td>442.32</td>\n",
       "      <td>1.38</td>\n",
       "    </tr>\n",
       "    <tr>\n",
       "      <th>10</th>\n",
       "      <td>2016-10-26</td>\n",
       "      <td>153.31</td>\n",
       "      <td>375.98</td>\n",
       "      <td>242.87</td>\n",
       "      <td>2.16</td>\n",
       "    </tr>\n",
       "    <tr>\n",
       "      <th>11</th>\n",
       "      <td>2016-10-27</td>\n",
       "      <td>41.23</td>\n",
       "      <td>81.32</td>\n",
       "      <td>349.58</td>\n",
       "      <td>1.13</td>\n",
       "    </tr>\n",
       "    <tr>\n",
       "      <th>12</th>\n",
       "      <td>2016-10-28</td>\n",
       "      <td>104.30</td>\n",
       "      <td>1.17</td>\n",
       "      <td>29.83</td>\n",
       "      <td>1.30</td>\n",
       "    </tr>\n",
       "    <tr>\n",
       "      <th>13</th>\n",
       "      <td>2016-10-29</td>\n",
       "      <td>233.28</td>\n",
       "      <td>307.79</td>\n",
       "      <td>223.90</td>\n",
       "      <td>1.97</td>\n",
       "    </tr>\n",
       "    <tr>\n",
       "      <th>14</th>\n",
       "      <td>2016-10-30</td>\n",
       "      <td>0.00</td>\n",
       "      <td>0.00</td>\n",
       "      <td>0.00</td>\n",
       "      <td>0.00</td>\n",
       "    </tr>\n",
       "    <tr>\n",
       "      <th>15</th>\n",
       "      <td>2016-10-31</td>\n",
       "      <td>157.89</td>\n",
       "      <td>307.97</td>\n",
       "      <td>10.94</td>\n",
       "      <td>2.80</td>\n",
       "    </tr>\n",
       "    <tr>\n",
       "      <th>16</th>\n",
       "      <td>2016-11-01</td>\n",
       "      <td>368.54</td>\n",
       "      <td>9.53</td>\n",
       "      <td>102.79</td>\n",
       "      <td>1.86</td>\n",
       "    </tr>\n",
       "    <tr>\n",
       "      <th>17</th>\n",
       "      <td>2016-11-02</td>\n",
       "      <td>12.63</td>\n",
       "      <td>109.49</td>\n",
       "      <td>370.30</td>\n",
       "      <td>1.42</td>\n",
       "    </tr>\n",
       "    <tr>\n",
       "      <th>18</th>\n",
       "      <td>2016-11-03</td>\n",
       "      <td>274.58</td>\n",
       "      <td>26.76</td>\n",
       "      <td>184.61</td>\n",
       "      <td>1.95</td>\n",
       "    </tr>\n",
       "    <tr>\n",
       "      <th>19</th>\n",
       "      <td>2016-11-04</td>\n",
       "      <td>178.88</td>\n",
       "      <td>124.60</td>\n",
       "      <td>456.79</td>\n",
       "      <td>2.27</td>\n",
       "    </tr>\n",
       "    <tr>\n",
       "      <th>20</th>\n",
       "      <td>2016-11-05</td>\n",
       "      <td>0.00</td>\n",
       "      <td>0.00</td>\n",
       "      <td>0.00</td>\n",
       "      <td>0.00</td>\n",
       "    </tr>\n",
       "    <tr>\n",
       "      <th>21</th>\n",
       "      <td>2016-11-06</td>\n",
       "      <td>460.23</td>\n",
       "      <td>344.74</td>\n",
       "      <td>418.06</td>\n",
       "      <td>1.03</td>\n",
       "    </tr>\n",
       "    <tr>\n",
       "      <th>22</th>\n",
       "      <td>2016-11-07</td>\n",
       "      <td>403.20</td>\n",
       "      <td>285.98</td>\n",
       "      <td>233.88</td>\n",
       "      <td>2.06</td>\n",
       "    </tr>\n",
       "    <tr>\n",
       "      <th>23</th>\n",
       "      <td>2016-11-08</td>\n",
       "      <td>158.18</td>\n",
       "      <td>305.76</td>\n",
       "      <td>468.17</td>\n",
       "      <td>1.11</td>\n",
       "    </tr>\n",
       "    <tr>\n",
       "      <th>24</th>\n",
       "      <td>2016-11-09</td>\n",
       "      <td>363.91</td>\n",
       "      <td>101.18</td>\n",
       "      <td>221.77</td>\n",
       "      <td>1.86</td>\n",
       "    </tr>\n",
       "    <tr>\n",
       "      <th>25</th>\n",
       "      <td>2016-11-10</td>\n",
       "      <td>200.13</td>\n",
       "      <td>328.89</td>\n",
       "      <td>76.88</td>\n",
       "      <td>1.90</td>\n",
       "    </tr>\n",
       "    <tr>\n",
       "      <th>26</th>\n",
       "      <td>2016-11-11</td>\n",
       "      <td>428.24</td>\n",
       "      <td>2.88</td>\n",
       "      <td>182.16</td>\n",
       "      <td>1.28</td>\n",
       "    </tr>\n",
       "    <tr>\n",
       "      <th>27</th>\n",
       "      <td>2016-11-12</td>\n",
       "      <td>497.72</td>\n",
       "      <td>262.48</td>\n",
       "      <td>153.21</td>\n",
       "      <td>1.41</td>\n",
       "    </tr>\n",
       "    <tr>\n",
       "      <th>28</th>\n",
       "      <td>2016-11-13</td>\n",
       "      <td>389.42</td>\n",
       "      <td>74.77</td>\n",
       "      <td>88.80</td>\n",
       "      <td>1.99</td>\n",
       "    </tr>\n",
       "    <tr>\n",
       "      <th>29</th>\n",
       "      <td>2016-11-14</td>\n",
       "      <td>92.34</td>\n",
       "      <td>168.19</td>\n",
       "      <td>167.65</td>\n",
       "      <td>1.18</td>\n",
       "    </tr>\n",
       "    <tr>\n",
       "      <th>...</th>\n",
       "      <td>...</td>\n",
       "      <td>...</td>\n",
       "      <td>...</td>\n",
       "      <td>...</td>\n",
       "      <td>...</td>\n",
       "    </tr>\n",
       "    <tr>\n",
       "      <th>970</th>\n",
       "      <td>2019-06-13</td>\n",
       "      <td>311.78</td>\n",
       "      <td>5.26</td>\n",
       "      <td>3.52</td>\n",
       "      <td>1.56</td>\n",
       "    </tr>\n",
       "    <tr>\n",
       "      <th>971</th>\n",
       "      <td>2019-06-14</td>\n",
       "      <td>157.37</td>\n",
       "      <td>468.57</td>\n",
       "      <td>44.08</td>\n",
       "      <td>1.02</td>\n",
       "    </tr>\n",
       "    <tr>\n",
       "      <th>972</th>\n",
       "      <td>2019-06-15</td>\n",
       "      <td>195.87</td>\n",
       "      <td>222.85</td>\n",
       "      <td>161.27</td>\n",
       "      <td>1.99</td>\n",
       "    </tr>\n",
       "    <tr>\n",
       "      <th>973</th>\n",
       "      <td>2019-06-16</td>\n",
       "      <td>344.79</td>\n",
       "      <td>467.53</td>\n",
       "      <td>26.93</td>\n",
       "      <td>2.25</td>\n",
       "    </tr>\n",
       "    <tr>\n",
       "      <th>974</th>\n",
       "      <td>2019-06-17</td>\n",
       "      <td>143.22</td>\n",
       "      <td>1.32</td>\n",
       "      <td>411.28</td>\n",
       "      <td>0.82</td>\n",
       "    </tr>\n",
       "    <tr>\n",
       "      <th>975</th>\n",
       "      <td>2019-06-18</td>\n",
       "      <td>69.65</td>\n",
       "      <td>420.70</td>\n",
       "      <td>428.96</td>\n",
       "      <td>2.31</td>\n",
       "    </tr>\n",
       "    <tr>\n",
       "      <th>976</th>\n",
       "      <td>2019-06-19</td>\n",
       "      <td>398.69</td>\n",
       "      <td>163.99</td>\n",
       "      <td>276.66</td>\n",
       "      <td>2.34</td>\n",
       "    </tr>\n",
       "    <tr>\n",
       "      <th>977</th>\n",
       "      <td>2019-06-20</td>\n",
       "      <td>310.73</td>\n",
       "      <td>227.47</td>\n",
       "      <td>457.39</td>\n",
       "      <td>1.59</td>\n",
       "    </tr>\n",
       "    <tr>\n",
       "      <th>978</th>\n",
       "      <td>2019-06-21</td>\n",
       "      <td>378.81</td>\n",
       "      <td>312.96</td>\n",
       "      <td>184.83</td>\n",
       "      <td>2.60</td>\n",
       "    </tr>\n",
       "    <tr>\n",
       "      <th>979</th>\n",
       "      <td>2019-06-22</td>\n",
       "      <td>74.74</td>\n",
       "      <td>414.82</td>\n",
       "      <td>341.24</td>\n",
       "      <td>1.80</td>\n",
       "    </tr>\n",
       "    <tr>\n",
       "      <th>980</th>\n",
       "      <td>2019-06-23</td>\n",
       "      <td>0.00</td>\n",
       "      <td>99.15</td>\n",
       "      <td>377.06</td>\n",
       "      <td>0.21</td>\n",
       "    </tr>\n",
       "    <tr>\n",
       "      <th>981</th>\n",
       "      <td>2019-06-24</td>\n",
       "      <td>71.97</td>\n",
       "      <td>199.30</td>\n",
       "      <td>288.33</td>\n",
       "      <td>1.60</td>\n",
       "    </tr>\n",
       "    <tr>\n",
       "      <th>982</th>\n",
       "      <td>2019-06-25</td>\n",
       "      <td>157.27</td>\n",
       "      <td>183.28</td>\n",
       "      <td>113.49</td>\n",
       "      <td>1.04</td>\n",
       "    </tr>\n",
       "    <tr>\n",
       "      <th>983</th>\n",
       "      <td>2019-06-26</td>\n",
       "      <td>78.37</td>\n",
       "      <td>83.82</td>\n",
       "      <td>91.36</td>\n",
       "      <td>1.55</td>\n",
       "    </tr>\n",
       "    <tr>\n",
       "      <th>984</th>\n",
       "      <td>2019-06-27</td>\n",
       "      <td>215.51</td>\n",
       "      <td>394.01</td>\n",
       "      <td>57.74</td>\n",
       "      <td>1.26</td>\n",
       "    </tr>\n",
       "    <tr>\n",
       "      <th>985</th>\n",
       "      <td>2019-06-28</td>\n",
       "      <td>251.73</td>\n",
       "      <td>32.60</td>\n",
       "      <td>289.52</td>\n",
       "      <td>1.85</td>\n",
       "    </tr>\n",
       "    <tr>\n",
       "      <th>986</th>\n",
       "      <td>2019-06-29</td>\n",
       "      <td>393.24</td>\n",
       "      <td>230.69</td>\n",
       "      <td>61.20</td>\n",
       "      <td>1.13</td>\n",
       "    </tr>\n",
       "    <tr>\n",
       "      <th>987</th>\n",
       "      <td>2019-06-30</td>\n",
       "      <td>260.72</td>\n",
       "      <td>51.13</td>\n",
       "      <td>291.13</td>\n",
       "      <td>0.98</td>\n",
       "    </tr>\n",
       "    <tr>\n",
       "      <th>988</th>\n",
       "      <td>2019-07-01</td>\n",
       "      <td>294.60</td>\n",
       "      <td>34.66</td>\n",
       "      <td>238.48</td>\n",
       "      <td>1.74</td>\n",
       "    </tr>\n",
       "    <tr>\n",
       "      <th>989</th>\n",
       "      <td>2019-07-02</td>\n",
       "      <td>122.78</td>\n",
       "      <td>469.04</td>\n",
       "      <td>285.05</td>\n",
       "      <td>0.87</td>\n",
       "    </tr>\n",
       "    <tr>\n",
       "      <th>990</th>\n",
       "      <td>2019-07-03</td>\n",
       "      <td>452.16</td>\n",
       "      <td>213.34</td>\n",
       "      <td>498.00</td>\n",
       "      <td>0.50</td>\n",
       "    </tr>\n",
       "    <tr>\n",
       "      <th>991</th>\n",
       "      <td>2019-07-04</td>\n",
       "      <td>314.13</td>\n",
       "      <td>94.47</td>\n",
       "      <td>388.74</td>\n",
       "      <td>1.34</td>\n",
       "    </tr>\n",
       "    <tr>\n",
       "      <th>992</th>\n",
       "      <td>2019-07-05</td>\n",
       "      <td>382.18</td>\n",
       "      <td>207.68</td>\n",
       "      <td>17.52</td>\n",
       "      <td>1.38</td>\n",
       "    </tr>\n",
       "    <tr>\n",
       "      <th>993</th>\n",
       "      <td>2019-07-06</td>\n",
       "      <td>395.15</td>\n",
       "      <td>295.30</td>\n",
       "      <td>62.83</td>\n",
       "      <td>1.28</td>\n",
       "    </tr>\n",
       "    <tr>\n",
       "      <th>994</th>\n",
       "      <td>2019-07-07</td>\n",
       "      <td>320.64</td>\n",
       "      <td>393.05</td>\n",
       "      <td>41.22</td>\n",
       "      <td>0.91</td>\n",
       "    </tr>\n",
       "    <tr>\n",
       "      <th>995</th>\n",
       "      <td>2019-07-08</td>\n",
       "      <td>366.55</td>\n",
       "      <td>416.76</td>\n",
       "      <td>32.36</td>\n",
       "      <td>1.67</td>\n",
       "    </tr>\n",
       "    <tr>\n",
       "      <th>996</th>\n",
       "      <td>2019-07-09</td>\n",
       "      <td>418.34</td>\n",
       "      <td>418.81</td>\n",
       "      <td>75.58</td>\n",
       "      <td>1.73</td>\n",
       "    </tr>\n",
       "    <tr>\n",
       "      <th>997</th>\n",
       "      <td>2019-07-10</td>\n",
       "      <td>0.00</td>\n",
       "      <td>44.85</td>\n",
       "      <td>16.90</td>\n",
       "      <td>1.75</td>\n",
       "    </tr>\n",
       "    <tr>\n",
       "      <th>998</th>\n",
       "      <td>2019-07-11</td>\n",
       "      <td>196.39</td>\n",
       "      <td>0.00</td>\n",
       "      <td>459.70</td>\n",
       "      <td>1.09</td>\n",
       "    </tr>\n",
       "    <tr>\n",
       "      <th>999</th>\n",
       "      <td>2019-07-12</td>\n",
       "      <td>443.68</td>\n",
       "      <td>364.01</td>\n",
       "      <td>306.67</td>\n",
       "      <td>1.36</td>\n",
       "    </tr>\n",
       "  </tbody>\n",
       "</table>\n",
       "<p>1000 rows × 5 columns</p>\n",
       "</div>"
      ],
      "text/plain": [
       "         dates     Tom     Joe  Charlie  Tips\n",
       "0   2016-10-16  131.10   18.78   210.34  1.22\n",
       "1   2016-10-17  459.13  424.17   176.03  0.33\n",
       "2   2016-10-18  338.39  376.78   334.06  1.23\n",
       "3   2016-10-19  361.32  349.26   456.03  0.61\n",
       "4   2016-10-20   25.39  434.77   462.00  1.16\n",
       "5   2016-10-21  181.40   66.56   448.09  1.05\n",
       "6   2016-10-22  348.83   65.75   277.36  1.94\n",
       "7   2016-10-23  128.45  259.85   466.54  1.84\n",
       "8   2016-10-24  209.89   69.28   440.32  1.49\n",
       "9   2016-10-25  455.62  211.44   442.32  1.38\n",
       "10  2016-10-26  153.31  375.98   242.87  2.16\n",
       "11  2016-10-27   41.23   81.32   349.58  1.13\n",
       "12  2016-10-28  104.30    1.17    29.83  1.30\n",
       "13  2016-10-29  233.28  307.79   223.90  1.97\n",
       "14  2016-10-30    0.00    0.00     0.00  0.00\n",
       "15  2016-10-31  157.89  307.97    10.94  2.80\n",
       "16  2016-11-01  368.54    9.53   102.79  1.86\n",
       "17  2016-11-02   12.63  109.49   370.30  1.42\n",
       "18  2016-11-03  274.58   26.76   184.61  1.95\n",
       "19  2016-11-04  178.88  124.60   456.79  2.27\n",
       "20  2016-11-05    0.00    0.00     0.00  0.00\n",
       "21  2016-11-06  460.23  344.74   418.06  1.03\n",
       "22  2016-11-07  403.20  285.98   233.88  2.06\n",
       "23  2016-11-08  158.18  305.76   468.17  1.11\n",
       "24  2016-11-09  363.91  101.18   221.77  1.86\n",
       "25  2016-11-10  200.13  328.89    76.88  1.90\n",
       "26  2016-11-11  428.24    2.88   182.16  1.28\n",
       "27  2016-11-12  497.72  262.48   153.21  1.41\n",
       "28  2016-11-13  389.42   74.77    88.80  1.99\n",
       "29  2016-11-14   92.34  168.19   167.65  1.18\n",
       "..         ...     ...     ...      ...   ...\n",
       "970 2019-06-13  311.78    5.26     3.52  1.56\n",
       "971 2019-06-14  157.37  468.57    44.08  1.02\n",
       "972 2019-06-15  195.87  222.85   161.27  1.99\n",
       "973 2019-06-16  344.79  467.53    26.93  2.25\n",
       "974 2019-06-17  143.22    1.32   411.28  0.82\n",
       "975 2019-06-18   69.65  420.70   428.96  2.31\n",
       "976 2019-06-19  398.69  163.99   276.66  2.34\n",
       "977 2019-06-20  310.73  227.47   457.39  1.59\n",
       "978 2019-06-21  378.81  312.96   184.83  2.60\n",
       "979 2019-06-22   74.74  414.82   341.24  1.80\n",
       "980 2019-06-23    0.00   99.15   377.06  0.21\n",
       "981 2019-06-24   71.97  199.30   288.33  1.60\n",
       "982 2019-06-25  157.27  183.28   113.49  1.04\n",
       "983 2019-06-26   78.37   83.82    91.36  1.55\n",
       "984 2019-06-27  215.51  394.01    57.74  1.26\n",
       "985 2019-06-28  251.73   32.60   289.52  1.85\n",
       "986 2019-06-29  393.24  230.69    61.20  1.13\n",
       "987 2019-06-30  260.72   51.13   291.13  0.98\n",
       "988 2019-07-01  294.60   34.66   238.48  1.74\n",
       "989 2019-07-02  122.78  469.04   285.05  0.87\n",
       "990 2019-07-03  452.16  213.34   498.00  0.50\n",
       "991 2019-07-04  314.13   94.47   388.74  1.34\n",
       "992 2019-07-05  382.18  207.68    17.52  1.38\n",
       "993 2019-07-06  395.15  295.30    62.83  1.28\n",
       "994 2019-07-07  320.64  393.05    41.22  0.91\n",
       "995 2019-07-08  366.55  416.76    32.36  1.67\n",
       "996 2019-07-09  418.34  418.81    75.58  1.73\n",
       "997 2019-07-10    0.00   44.85    16.90  1.75\n",
       "998 2019-07-11  196.39    0.00   459.70  1.09\n",
       "999 2019-07-12  443.68  364.01   306.67  1.36\n",
       "\n",
       "[1000 rows x 5 columns]"
      ]
     },
     "execution_count": 146,
     "metadata": {},
     "output_type": "execute_result"
    }
   ],
   "source": [
    "pymarket9"
   ]
  },
  {
   "cell_type": "markdown",
   "metadata": {},
   "source": [
    "### 10)  Find out how much Tom and Charlie could have saved in total if the discount system were available when they started buy in Pymarket\n",
    "The Pymarket  has decided to implement discounts system. Now for each purchase someone made in which spend more than $ 100, that person will receive a 7% discount  \n",
    "return tuple of the save amount of money (Tom,Charlie)\n"
   ]
  },
  {
   "cell_type": "code",
   "execution_count": 147,
   "metadata": {},
   "outputs": [],
   "source": [
    "tom = pymarket['Tom']\n",
    "charlie = pymarket['Charlie']"
   ]
  },
  {
   "cell_type": "code",
   "execution_count": 155,
   "metadata": {},
   "outputs": [],
   "source": [
    "charlie_save = charlie[charlie > 100].apply(lambda row : row*0.07).sum()"
   ]
  },
  {
   "cell_type": "code",
   "execution_count": 154,
   "metadata": {},
   "outputs": [],
   "source": [
    "tom_save = tom[tom > 100].apply(lambda row : row*0.07).sum()"
   ]
  },
  {
   "cell_type": "code",
   "execution_count": 156,
   "metadata": {},
   "outputs": [
    {
     "data": {
      "text/plain": [
       "(14934.064600000002, 15709.092)"
      ]
     },
     "execution_count": 156,
     "metadata": {},
     "output_type": "execute_result"
    }
   ],
   "source": [
    "(tom_save,charlie_save)"
   ]
  },
  {
   "cell_type": "code",
   "execution_count": null,
   "metadata": {},
   "outputs": [],
   "source": []
  },
  {
   "cell_type": "code",
   "execution_count": null,
   "metadata": {},
   "outputs": [],
   "source": []
  },
  {
   "cell_type": "code",
   "execution_count": null,
   "metadata": {},
   "outputs": [],
   "source": []
  }
 ],
 "metadata": {
  "kernelspec": {
   "display_name": "Python 3",
   "language": "python",
   "name": "python3"
  },
  "language_info": {
   "codemirror_mode": {
    "name": "ipython",
    "version": 3
   },
   "file_extension": ".py",
   "mimetype": "text/x-python",
   "name": "python",
   "nbconvert_exporter": "python",
   "pygments_lexer": "ipython3",
   "version": "3.7.3"
  }
 },
 "nbformat": 4,
 "nbformat_minor": 2
}
